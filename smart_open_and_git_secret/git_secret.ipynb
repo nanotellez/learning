{
 "metadata": {
  "language_info": {
   "codemirror_mode": {
    "name": "ipython",
    "version": 3
   },
   "file_extension": ".py",
   "mimetype": "text/x-python",
   "name": "python",
   "nbconvert_exporter": "python",
   "pygments_lexer": "ipython3",
   "version": "3.7.0-final"
  },
  "orig_nbformat": 2,
  "kernelspec": {
   "name": "python3",
   "display_name": "Python 3",
   "language": "python"
  }
 },
 "nbformat": 4,
 "nbformat_minor": 2,
 "cells": [
  {
   "source": [
    "# git-secret"
   ],
   "cell_type": "markdown",
   "metadata": {}
  },
  {
   "source": [
    "`git-secret` is a bash tool to store your private data inside a git repo. How’s that? Basically, it just encrypts, using `gpg`, the tracked files with the public keys of all the users that you trust. So everyone of them can decrypt these files using only their personal secret key. Why deal with all this private-public keys stuff? Well, to make it easier for everyone to manage access rights. There are no passwords that change. When someone is out - just delete their public key, reencrypt the files, and they won’t be able to decrypt secrets anymore."
   ],
   "cell_type": "markdown",
   "metadata": {}
  },
  {
   "source": [
    "## 1. Create a `gpg` RSA key-pair identified by your email address\n",
    "\n",
    "### a. Install GPG\n",
    "MAC:\n",
    "```\n",
    "brew install gnupg\n",
    "```\n",
    "Debian/Ubuntu based Linux distros:\n",
    "```\n",
    "sudo apt-get install gpg\n",
    "```\n",
    "Windows:\n",
    "Gpg4win application. You can find the installer at [Windows GnuPG installer (Gpg4win) download page](https://gpg4win.org/download.html). Just run the installer and then gpg will be available in your command prompt.\n",
    "\n",
    "More info on GPG in [this great tutorial](https://www.devdungeon.com/content/gpg-tutorial)\n",
    "\n",
    "### b. Create a new private key\n",
    "```\n",
    "gpg --gen-key\n",
    "```\n",
    "This will run you through some prompts to create your key. Be aware that it will ask you to set a passphrase, and it times out after a minute or so. So have your password manager ready.\n"
   ],
   "cell_type": "markdown",
   "metadata": {}
  },
  {
   "source": [
    "## 2. Hide your secrets\n",
    "\n",
    "### a. Install git-secret\n",
    "MAC:\n",
    "```\n",
    "brew install git-secret\n",
    "```\n",
    "Other platforms (Linux distros), see their official [installation instructions](http://git-secret.io/installation)\n",
    "\n",
    "### b. Initialize the git-secret repository\n",
    "```\n",
    "git secret init\n",
    "```\n",
    "\n",
    "### c. Add user to the git-secret repository\n",
    "```\n",
    "git secret tell nano@audantic.com\n",
    "```\n",
    "\n",
    "### d. Add files to be encrypted inside the git-secret repo.\n",
    "```\n",
    "git secret add keep_this_secret.txt\n",
    "```\n",
    "With default settings, these files are automatically added to `.gitignore`\n",
    "\n",
    "### e. Encript your secret files\n",
    "```\n",
    "git secret hide\n",
    "```\n",
    "Then commit changes. The `hide` command creates (or updates) a version of each secret file encrypted with the keys provided in the `tell` command. It is safe(er) to put these files in your public repo. It's recommended to add the `git secret hide` command to the pre-commit hook!"
   ],
   "cell_type": "markdown",
   "metadata": {}
  },
  {
   "source": [
    "## 3. Allow other users to see your secrets\n",
    "\n",
    "### a. Other user exports their public key\n",
    "They will use `gpg` in the same way you did to create their public key. You can see a list of your keys with \n",
    "```\n",
    "gpg --list-keys\n",
    "```\n",
    "Pick the one you want to export. You can use the key ID (the hexadecial number) or any part of the user ID.\n",
    "```\n",
    "gpg --output <output_file_name.gpg> --export <key_or_user_ID>\n",
    "```\n",
    "For instance:\n",
    "```\n",
    "gpg --output josh.gpg --export josh@audantic.com\n",
    "```\n",
    "This creates a binary file. If you want to export it in a readable format, you can use\n",
    "```\n",
    "gpg --armor --output josh_key.txt --export josh@audantic.com\n",
    "```\n",
    "\n",
    "### b. Import the other user's key to your public keyring\n",
    "```\n",
    "gpg --import josh.gpg\n",
    "```\n",
    "or\n",
    "```\n",
    "gpg --import josh_key.txt\n",
    "```\n",
    "\n",
    "### c. Add them to your secrets repo\n",
    "```\n",
    "git secret tell josh@audantic.com\n",
    "```\n",
    "\n",
    "### d. Re-encrypt secrets\n",
    "The newly added user cannot yet read the encrypted files. Their public key has to be part of the encryption. So we decrypt and re-encrypt them:\n",
    "```\n",
    "git secret reveal\n",
    "git secret hide -d\n",
    "```\n"
   ],
   "cell_type": "markdown",
   "metadata": {}
  },
  {
   "source": [],
   "cell_type": "markdown",
   "metadata": {}
  }
 ]
}